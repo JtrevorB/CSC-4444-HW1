{
  "cells": [
    {
      "cell_type": "code",
      "execution_count": 39,
      "id": "2f30dcff",
      "metadata": {
        "colab": {
          "base_uri": "https://localhost:8080/"
        },
        "id": "2f30dcff",
        "outputId": "8ce28fad-72d1-4141-c28e-1ea416638745"
      },
      "outputs": [
        {
          "name": "stdout",
          "output_type": "stream",
          "text": [
            "ANSWER: {'cost': 10, 'path': [0, 4, 5, 18, 6, 7]}\n",
            "ANSWER: {'cost': 14, 'path': [0, 5, 18, 6, 7]}\n"
          ]
        }
      ],
      "source": [
        "# uniform cost function\n",
        "# returns the minimum cost (Bonus: returns path to minimum cost as well)\n",
        "\n",
        "def add_up_paths(path, cost):\n",
        "  total = 0\n",
        "  for i in range(len(path)-1):\n",
        "    e1, e2 = path[i], path[i+1]\n",
        "    edge_cost = cost[e1, e2]\n",
        "    total += edge_cost\n",
        "  return total\n",
        "\n",
        "def recursive_uniform_cost_search(start, goal, path, graph, cost):\n",
        "  if(start in goal):\n",
        "    edge_costs = add_up_paths(path, cost)\n",
        "    print(\"ANSWER:\", {'cost': edge_costs, 'path': path})\n",
        "    return\n",
        "\n",
        "  if(graph[start] == []):\n",
        "    return\n",
        "\n",
        "  for next in graph[start]:\n",
        "    path.append(next)\n",
        "    recursive_uniform_cost_search(next, goal, path, graph, cost)\n",
        "    path.pop()\n",
        "\n",
        "  return\n",
        "\n",
        "def uniform_cost_search(start, goal, graph, cost):\n",
        "  path = [start]\n",
        "\n",
        "  for next in graph[start]:\n",
        "    path.append(next)\n",
        "    recursive_uniform_cost_search(next, goal, path, graph, cost)\n",
        "    path.pop()\n",
        "\n",
        "  return\n",
        "\n",
        "# main function\n",
        "if __name__ == '__main__':\n",
        "\n",
        "    # create a graph with no more than 30 nodes\n",
        "    graph, cost = [[] for i in range(30)], {}\n",
        "\n",
        "    # add edges to the graph\n",
        "    graph[0].append(4)\n",
        "    graph[0].append(5)\n",
        "    graph[0].append(16)\n",
        "    graph[2].append(1)\n",
        "    graph[3].append(1)\n",
        "    graph[4].append(2)\n",
        "    graph[4].append(3)\n",
        "    graph[4].append(5)\n",
        "    graph[5].append(8)\n",
        "    graph[5].append(18)\n",
        "    graph[6].append(3)\n",
        "    graph[6].append(7)\n",
        "    graph[8].append(16)\n",
        "    graph[8].append(17)\n",
        "    graph[16].append(17)\n",
        "    graph[18].append(6)\n",
        "\n",
        "\n",
        "    # add cost to each edge\n",
        "    cost[(0, 4)] = 3\n",
        "    cost[(0, 5)] = 9\n",
        "    cost[(0, 16)] = 1\n",
        "    cost[(2, 1)] = 2\n",
        "    cost[(3, 1)] = 2\n",
        "    cost[(4, 2)] = 1\n",
        "    cost[(4, 3)] = 8\n",
        "    cost[(4, 5)] = 2\n",
        "    cost[(5, 8)] = 3\n",
        "    cost[(5, 18)] = 2\n",
        "    cost[(6, 3)] = 3\n",
        "    cost[(6, 7)] = 2\n",
        "    cost[(8, 16)] = 4\n",
        "    cost[(8, 17)] = 4\n",
        "    cost[(16, 17)] = 15\n",
        "    cost[(18, 6)] = 1\n",
        "\n",
        "    # set start state\n",
        "    start = 0\n",
        "\n",
        "    # set goal state, there can be multiple goal states\n",
        "    goal = [7]\n",
        "\n",
        "    # call uniform_search_cost function to get the minimum cost to reach gaol. Bonus points for path\n",
        "    # ****** You have to implement this function *****\n",
        "    uniform_cost_search(start, goal, graph, cost)\n",
        "\n",
        "    # for node, info in min_cost_info.items():\n",
        "    #     print(f'Minimum cost from {start} to {node} is {info[\"cost\"]}')\n",
        "\n",
        "    #   **** Bonus ****\n",
        "    #   print(f'Path: {info[\"path\"]}')"
      ]
    }
  ],
  "metadata": {
    "colab": {
      "provenance": []
    },
    "kernelspec": {
      "display_name": "Python 3 (ipykernel)",
      "language": "python",
      "name": "python3"
    },
    "language_info": {
      "codemirror_mode": {
        "name": "ipython",
        "version": 3
      },
      "file_extension": ".py",
      "mimetype": "text/x-python",
      "name": "python",
      "nbconvert_exporter": "python",
      "pygments_lexer": "ipython3",
      "version": "3.10.9"
    }
  },
  "nbformat": 4,
  "nbformat_minor": 5
}
